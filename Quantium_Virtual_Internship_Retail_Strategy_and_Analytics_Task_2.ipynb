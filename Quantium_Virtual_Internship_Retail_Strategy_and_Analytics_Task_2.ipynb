{
  "nbformat": 4,
  "nbformat_minor": 0,
  "metadata": {
    "colab": {
      "provenance": []
    },
    "kernelspec": {
      "name": "python3",
      "display_name": "Python 3"
    },
    "language_info": {
      "name": "python"
    }
  },
  "cells": [
    {
      "cell_type": "code",
      "source": [],
      "metadata": {
        "id": "kX5c36bpUglP"
      },
      "execution_count": null,
      "outputs": []
    },
    {
      "cell_type": "markdown",
      "source": [
        "# Task 2: Experimentation and uplift testing"
      ],
      "metadata": {
        "id": "5neHcmyOUpqP"
      }
    },
    {
      "cell_type": "markdown",
      "source": [
        "#"
      ],
      "metadata": {
        "id": "YefW1St7U7og"
      }
    },
    {
      "cell_type": "markdown",
      "metadata": {
        "papermill": {
          "duration": 0.082153,
          "end_time": "2022-08-30T03:13:56.258762",
          "exception": false,
          "start_time": "2022-08-30T03:13:56.176609",
          "status": "completed"
        },
        "tags": [],
        "id": "a1d0e742"
      },
      "source": [
        "<font size=\"3\"> **Background information**\n",
        "    \n",
        "<font size=\"3\"> You are part of Quantium’s retail analytics team and have been approached by your client, the Category Manager for Chips, has asked us to test the impact of the new trial layouts with a data driven recommendation to whether or not the trial layout should be rolled out to all their stores.\n",
        "    \n",
        "<font size=\"3\"> **Task**\n",
        "    \n",
        "<font size=\"3\"> Julia has asked us to evaluate the performance of a store trial which was performed in stores 77, 86 and 88.\n",
        "\n",
        "<font size=\"3\"> To get started use the QVI_data dataset below or your output from task 1 and consider the monthly sales experience of each store.\n",
        "    \n",
        "<font size=\"3\"> This can be broken down by:\n",
        "- <font size=\"3\"> total sales revenue\n",
        "- <font size=\"3\"> total number of customers\n",
        "- <font size=\"3\"> average number of transactions per customer\n",
        "\n",
        "<font size=\"3\"> Create a measure to compare different control stores to each of the trial stores to do this write a function to reduce having to re-do the analysis for each trial store. Consider using Pearson correlations or a metric such as a magnitude distance e.g. 1- (Observed distance – minimum distance)/(Maximum distance – minimum distance) as a measure.\n",
        "<font size=\"3\"> Once you have selected your control stores, compare each trial and control pair during the trial period. You want to test if total sales are significantly different in the trial period and if so, check if the driver of change is more purchasing customers or more purchases per customers etc."
      ]
    },
    {
      "cell_type": "code",
      "execution_count": null,
      "metadata": {
        "execution": {
          "iopub.execute_input": "2022-08-30T03:12:07.431334Z",
          "iopub.status.busy": "2022-08-30T03:12:07.430368Z",
          "iopub.status.idle": "2022-08-30T03:12:22.604350Z",
          "shell.execute_reply": "2022-08-30T03:12:22.603035Z"
        },
        "papermill": {
          "duration": 15.21559,
          "end_time": "2022-08-30T03:12:22.607553",
          "exception": false,
          "start_time": "2022-08-30T03:12:07.391963",
          "status": "completed"
        },
        "tags": [],
        "id": "65f92207"
      },
      "outputs": [],
      "source": [
        "# load packages\n",
        "import pandas as pd\n",
        "import numpy as np\n",
        "pd.set_option('display.max_columns', 50)\n",
        "\n",
        "import re\n",
        "from datetime import datetime\n",
        "\n",
        "import matplotlib.pyplot as plt\n",
        "import matplotlib.dates as mdates\n",
        "import seaborn as sns\n"
      ]
    },
    {
      "cell_type": "markdown",
      "metadata": {
        "papermill": {
          "duration": 0.038899,
          "end_time": "2022-08-30T03:12:22.686025",
          "exception": false,
          "start_time": "2022-08-30T03:12:22.647126",
          "status": "completed"
        },
        "tags": [],
        "id": "92aa7075"
      },
      "source": [
        "<font size=\"4\"> Load the data on transactions."
      ]
    },
    {
      "cell_type": "code",
      "execution_count": null,
      "metadata": {
        "execution": {
          "iopub.execute_input": "2022-08-30T03:12:22.766778Z",
          "iopub.status.busy": "2022-08-30T03:12:22.765957Z",
          "iopub.status.idle": "2022-08-30T03:12:57.534569Z",
          "shell.execute_reply": "2022-08-30T03:12:57.533286Z"
        },
        "papermill": {
          "duration": 34.848331,
          "end_time": "2022-08-30T03:12:57.573449",
          "exception": false,
          "start_time": "2022-08-30T03:12:22.725118",
          "status": "completed"
        },
        "tags": [],
        "id": "5273afff",
        "outputId": "906b9951-2622-4089-db74-0690f2c7d191"
      },
      "outputs": [
        {
          "data": {
            "text/html": [
              "<div>\n",
              "<style scoped>\n",
              "    .dataframe tbody tr th:only-of-type {\n",
              "        vertical-align: middle;\n",
              "    }\n",
              "\n",
              "    .dataframe tbody tr th {\n",
              "        vertical-align: top;\n",
              "    }\n",
              "\n",
              "    .dataframe thead th {\n",
              "        text-align: right;\n",
              "    }\n",
              "</style>\n",
              "<table border=\"1\" class=\"dataframe\">\n",
              "  <thead>\n",
              "    <tr style=\"text-align: right;\">\n",
              "      <th></th>\n",
              "      <th>DATE</th>\n",
              "      <th>Store_number</th>\n",
              "      <th>Card_number</th>\n",
              "      <th>Transaction_id</th>\n",
              "      <th>Product_number</th>\n",
              "      <th>Product_name</th>\n",
              "      <th>Product_quantity</th>\n",
              "      <th>Total_sales</th>\n",
              "    </tr>\n",
              "  </thead>\n",
              "  <tbody>\n",
              "    <tr>\n",
              "      <th>0</th>\n",
              "      <td>43390</td>\n",
              "      <td>1</td>\n",
              "      <td>1000</td>\n",
              "      <td>1</td>\n",
              "      <td>5</td>\n",
              "      <td>Natural Chip        Compny SeaSalt175g</td>\n",
              "      <td>2</td>\n",
              "      <td>6.0</td>\n",
              "    </tr>\n",
              "    <tr>\n",
              "      <th>1</th>\n",
              "      <td>43599</td>\n",
              "      <td>1</td>\n",
              "      <td>1307</td>\n",
              "      <td>348</td>\n",
              "      <td>66</td>\n",
              "      <td>CCs Nacho Cheese    175g</td>\n",
              "      <td>3</td>\n",
              "      <td>6.3</td>\n",
              "    </tr>\n",
              "    <tr>\n",
              "      <th>2</th>\n",
              "      <td>43605</td>\n",
              "      <td>1</td>\n",
              "      <td>1343</td>\n",
              "      <td>383</td>\n",
              "      <td>61</td>\n",
              "      <td>Smiths Crinkle Cut  Chips Chicken 170g</td>\n",
              "      <td>2</td>\n",
              "      <td>2.9</td>\n",
              "    </tr>\n",
              "    <tr>\n",
              "      <th>3</th>\n",
              "      <td>43329</td>\n",
              "      <td>2</td>\n",
              "      <td>2373</td>\n",
              "      <td>974</td>\n",
              "      <td>69</td>\n",
              "      <td>Smiths Chip Thinly  S/Cream&amp;Onion 175g</td>\n",
              "      <td>5</td>\n",
              "      <td>15.0</td>\n",
              "    </tr>\n",
              "    <tr>\n",
              "      <th>4</th>\n",
              "      <td>43330</td>\n",
              "      <td>2</td>\n",
              "      <td>2426</td>\n",
              "      <td>1038</td>\n",
              "      <td>108</td>\n",
              "      <td>Kettle Tortilla ChpsHny&amp;Jlpno Chili 150g</td>\n",
              "      <td>3</td>\n",
              "      <td>13.8</td>\n",
              "    </tr>\n",
              "  </tbody>\n",
              "</table>\n",
              "</div>"
            ],
            "text/plain": [
              "    DATE  Store_number  Card_number  Transaction_id  Product_number  \\\n",
              "0  43390             1         1000               1               5   \n",
              "1  43599             1         1307             348              66   \n",
              "2  43605             1         1343             383              61   \n",
              "3  43329             2         2373             974              69   \n",
              "4  43330             2         2426            1038             108   \n",
              "\n",
              "                               Product_name  Product_quantity  Total_sales  \n",
              "0    Natural Chip        Compny SeaSalt175g                 2          6.0  \n",
              "1                  CCs Nacho Cheese    175g                 3          6.3  \n",
              "2    Smiths Crinkle Cut  Chips Chicken 170g                 2          2.9  \n",
              "3    Smiths Chip Thinly  S/Cream&Onion 175g                 5         15.0  \n",
              "4  Kettle Tortilla ChpsHny&Jlpno Chili 150g                 3         13.8  "
            ]
          },
          "execution_count": 2,
          "metadata": {},
          "output_type": "execute_result"
        }
      ],
      "source": [
        "# load data\n",
        "transaction = pd.read_excel('/content/QVI_transaction_data (2).xlsx')\n",
        "# make columns's names more interpretable\n",
        "transaction = transaction.rename(columns={'STORE_NBR':'Store_number', 'LYLTY_CARD_NBR':'Card_number', 'TXN_ID':'Transaction_id',\n",
        "                                          'PROD_NBR':'Product_number', 'PROD_NAME':'Product_name', 'PROD_QTY':'Product_quantity', 'TOT_SALES':'Total_sales'})\n",
        "transaction.head(5)   #"
      ]
    },
    {
      "cell_type": "markdown",
      "metadata": {
        "papermill": {
          "duration": 0.082123,
          "end_time": "2022-08-30T03:13:56.422981",
          "exception": false,
          "start_time": "2022-08-30T03:13:56.340858",
          "status": "completed"
        },
        "tags": [],
        "id": "9493313e"
      },
      "source": [
        "- <font size=\"3\"> period before trial : 07/2018 to 02/2019 (8 months)\n",
        "- <font size=\"3\"> trial period: 03/2019 to 06/2019 (4 months)"
      ]
    },
    {
      "cell_type": "markdown",
      "metadata": {
        "papermill": {
          "duration": 0.105791,
          "end_time": "2022-08-30T03:13:56.628591",
          "exception": false,
          "start_time": "2022-08-30T03:13:56.522800",
          "status": "completed"
        },
        "tags": [],
        "id": "1df08d2f"
      },
      "source": [
        "<font size=\"3\"> This task can be finished in 2 steps:\n",
        "- <font size=\"3\"> Step 1: Based on the first 8 months' data, find the control store of each trial store (the control store is actually the store that displays very similar trend and pattern to the trial store)\n",
        "- <font size=\"3\"> Step 2: Compare the last 4 months' data to identify the impact of the new trial layouts"
      ]
    },
    {
      "cell_type": "markdown",
      "source": [],
      "metadata": {
        "id": "R_3PZzOCVkrw"
      }
    },
    {
      "cell_type": "markdown",
      "metadata": {
        "papermill": {
          "duration": 0.088171,
          "end_time": "2022-08-30T03:13:56.807763",
          "exception": false,
          "start_time": "2022-08-30T03:13:56.719592",
          "status": "completed"
        },
        "tags": [],
        "id": "fd87f113"
      },
      "source": [
        "### Step 1: find the control store  \n",
        "<font size=\"3\"> In order to find the control store, we need to calculate the similarity between each store and a trial store first. The store with the highest similarity is chosen as the control store.  \n",
        "<font size=\"3\"> I pick monthly sales revenue and monthly customers count as the key metrics to measure the overall similarity."
      ]
    },
    {
      "cell_type": "code",
      "source": [],
      "metadata": {
        "id": "dXhNlKzDVhR0"
      },
      "execution_count": null,
      "outputs": []
    },
    {
      "cell_type": "code",
      "execution_count": null,
      "metadata": {
        "execution": {
          "iopub.execute_input": "2022-08-30T03:13:56.987013Z",
          "iopub.status.busy": "2022-08-30T03:13:56.986615Z",
          "iopub.status.idle": "2022-08-30T03:13:57.013366Z",
          "shell.execute_reply": "2022-08-30T03:13:57.012374Z"
        },
        "papermill": {
          "duration": 0.119352,
          "end_time": "2022-08-30T03:13:57.015905",
          "exception": false,
          "start_time": "2022-08-30T03:13:56.896553",
          "status": "completed"
        },
        "tags": [],
        "id": "4352d785"
      },
      "outputs": [],
      "source": [
        "#\n",
        "store_trial = [77,86,88]\n",
        "all_store = full['Store_number'].unique().tolist()\n",
        "all_months = full['Date'].unique().tolist()"
      ]
    },
    {
      "cell_type": "code",
      "execution_count": null,
      "metadata": {
        "execution": {
          "iopub.execute_input": "2022-08-30T03:13:57.187205Z",
          "iopub.status.busy": "2022-08-30T03:13:57.186827Z",
          "iopub.status.idle": "2022-08-30T03:13:57.200535Z",
          "shell.execute_reply": "2022-08-30T03:13:57.199704Z"
        },
        "papermill": {
          "duration": 0.104075,
          "end_time": "2022-08-30T03:13:57.203232",
          "exception": false,
          "start_time": "2022-08-30T03:13:57.099157",
          "status": "completed"
        },
        "tags": [],
        "id": "73a8e227",
        "outputId": "08c4d94b-96b5-43b5-e3dc-ad2ad06db66a"
      },
      "outputs": [
        {
          "data": {
            "text/html": [
              "<div>\n",
              "<style scoped>\n",
              "    .dataframe tbody tr th:only-of-type {\n",
              "        vertical-align: middle;\n",
              "    }\n",
              "\n",
              "    .dataframe tbody tr th {\n",
              "        vertical-align: top;\n",
              "    }\n",
              "\n",
              "    .dataframe thead th {\n",
              "        text-align: right;\n",
              "    }\n",
              "</style>\n",
              "<table border=\"1\" class=\"dataframe\">\n",
              "  <thead>\n",
              "    <tr style=\"text-align: right;\">\n",
              "      <th></th>\n",
              "      <th>Store_number</th>\n",
              "      <th>Date</th>\n",
              "    </tr>\n",
              "  </thead>\n",
              "  <tbody>\n",
              "    <tr>\n",
              "      <th>0</th>\n",
              "      <td>116</td>\n",
              "      <td>2018-07</td>\n",
              "    </tr>\n",
              "  </tbody>\n",
              "</table>\n",
              "</div>"
            ],
            "text/plain": [
              "   Store_number     Date\n",
              "0           116  2018-07"
            ]
          },
          "execution_count": 76,
          "metadata": {},
          "output_type": "execute_result"
        }
      ],
      "source": [
        "#\n",
        "store_months = []\n",
        "for i in all_store:\n",
        "    for j in all_months:\n",
        "        store_months.append([i, j])\n",
        "store_months = pd.DataFrame(data=store_months, columns=['Store_number', 'Date'])\n",
        "store_months.head(1)"
      ]
    },
    {
      "cell_type": "code",
      "source": [],
      "metadata": {
        "id": "4_dsGOEJVv1g"
      },
      "execution_count": null,
      "outputs": []
    },
    {
      "cell_type": "code",
      "execution_count": null,
      "metadata": {
        "execution": {
          "iopub.execute_input": "2022-08-30T03:13:57.376759Z",
          "iopub.status.busy": "2022-08-30T03:13:57.375717Z",
          "iopub.status.idle": "2022-08-30T03:13:57.426118Z",
          "shell.execute_reply": "2022-08-30T03:13:57.425222Z"
        },
        "papermill": {
          "duration": 0.138974,
          "end_time": "2022-08-30T03:13:57.428786",
          "exception": false,
          "start_time": "2022-08-30T03:13:57.289812",
          "status": "completed"
        },
        "tags": [],
        "id": "925a1913",
        "outputId": "fb4ed874-c2c5-48eb-cb8c-4d2d8344420e"
      },
      "outputs": [
        {
          "data": {
            "text/html": [
              "<div>\n",
              "<style scoped>\n",
              "    .dataframe tbody tr th:only-of-type {\n",
              "        vertical-align: middle;\n",
              "    }\n",
              "\n",
              "    .dataframe tbody tr th {\n",
              "        vertical-align: top;\n",
              "    }\n",
              "\n",
              "    .dataframe thead th {\n",
              "        text-align: right;\n",
              "    }\n",
              "</style>\n",
              "<table border=\"1\" class=\"dataframe\">\n",
              "  <thead>\n",
              "    <tr style=\"text-align: right;\">\n",
              "      <th></th>\n",
              "      <th>Store_number</th>\n",
              "      <th>Date</th>\n",
              "      <th>sales_revenue</th>\n",
              "    </tr>\n",
              "  </thead>\n",
              "  <tbody>\n",
              "    <tr>\n",
              "      <th>0</th>\n",
              "      <td>116</td>\n",
              "      <td>2018-07</td>\n",
              "      <td>824.8</td>\n",
              "    </tr>\n",
              "  </tbody>\n",
              "</table>\n",
              "</div>"
            ],
            "text/plain": [
              "   Store_number     Date  sales_revenue\n",
              "0           116  2018-07          824.8"
            ]
          },
          "execution_count": 77,
          "metadata": {},
          "output_type": "execute_result"
        }
      ],
      "source": [
        "# monthly sales revenue.\n",
        "monthly_total_sales = full.groupby(['Store_number', 'Date'])['Total_sales'].sum().reset_index(name='sales_revenue')\n",
        "store_months = store_months.merge(monthly_total_sales, on=['Store_number', 'Date'], how='left')\n",
        "store_months['sales_revenue'].fillna(0, inplace=True)    # missing value means mean no sales revenue, so replace with 0\n",
        "store_months.head(1)"
      ]
    },
    {
      "cell_type": "code",
      "execution_count": null,
      "metadata": {
        "execution": {
          "iopub.execute_input": "2022-08-30T03:13:57.609044Z",
          "iopub.status.busy": "2022-08-30T03:13:57.608640Z",
          "iopub.status.idle": "2022-08-30T03:13:57.716139Z",
          "shell.execute_reply": "2022-08-30T03:13:57.715128Z"
        },
        "papermill": {
          "duration": 0.196327,
          "end_time": "2022-08-30T03:13:57.718394",
          "exception": false,
          "start_time": "2022-08-30T03:13:57.522067",
          "status": "completed"
        },
        "tags": [],
        "id": "7216d02a",
        "outputId": "e233a345-7134-4b01-8d16-eab5e8fa001b"
      },
      "outputs": [
        {
          "data": {
            "text/html": [
              "<div>\n",
              "<style scoped>\n",
              "    .dataframe tbody tr th:only-of-type {\n",
              "        vertical-align: middle;\n",
              "    }\n",
              "\n",
              "    .dataframe tbody tr th {\n",
              "        vertical-align: top;\n",
              "    }\n",
              "\n",
              "    .dataframe thead th {\n",
              "        text-align: right;\n",
              "    }\n",
              "</style>\n",
              "<table border=\"1\" class=\"dataframe\">\n",
              "  <thead>\n",
              "    <tr style=\"text-align: right;\">\n",
              "      <th></th>\n",
              "      <th>Store_number</th>\n",
              "      <th>Date</th>\n",
              "      <th>sales_revenue</th>\n",
              "      <th>customer_count</th>\n",
              "    </tr>\n",
              "  </thead>\n",
              "  <tbody>\n",
              "    <tr>\n",
              "      <th>0</th>\n",
              "      <td>116</td>\n",
              "      <td>2018-07</td>\n",
              "      <td>824.8</td>\n",
              "      <td>90.0</td>\n",
              "    </tr>\n",
              "  </tbody>\n",
              "</table>\n",
              "</div>"
            ],
            "text/plain": [
              "   Store_number     Date  sales_revenue  customer_count\n",
              "0           116  2018-07          824.8            90.0"
            ]
          },
          "execution_count": 78,
          "metadata": {},
          "output_type": "execute_result"
        }
      ],
      "source": [
        "# monthly number of customers\n",
        "monthly_total_customer = full[['Store_number', 'Date','Card_number']].drop_duplicates().groupby(['Store_number', 'Date']).size().reset_index(name='customer_count')\n",
        "store_months = store_months.merge(monthly_total_customer, on=['Store_number', 'Date'], how='left')\n",
        "store_months['customer_count'].fillna(0, inplace=True)     # missing value means no customer, so replace with 0\n",
        "store_months.head(1)"
      ]
    },
    {
      "cell_type": "code",
      "execution_count": null,
      "metadata": {
        "execution": {
          "iopub.execute_input": "2022-08-30T03:13:57.891563Z",
          "iopub.status.busy": "2022-08-30T03:13:57.890637Z",
          "iopub.status.idle": "2022-08-30T03:13:58.007851Z",
          "shell.execute_reply": "2022-08-30T03:13:58.006613Z"
        },
        "papermill": {
          "duration": 0.20789,
          "end_time": "2022-08-30T03:13:58.010822",
          "exception": false,
          "start_time": "2022-08-30T03:13:57.802932",
          "status": "completed"
        },
        "tags": [],
        "id": "b0e5a4b9",
        "outputId": "af4dadf5-9ed0-481e-cba0-dbee25fd33d7"
      },
      "outputs": [
        {
          "data": {
            "text/html": [
              "<div>\n",
              "<style scoped>\n",
              "    .dataframe tbody tr th:only-of-type {\n",
              "        vertical-align: middle;\n",
              "    }\n",
              "\n",
              "    .dataframe tbody tr th {\n",
              "        vertical-align: top;\n",
              "    }\n",
              "\n",
              "    .dataframe thead th {\n",
              "        text-align: right;\n",
              "    }\n",
              "</style>\n",
              "<table border=\"1\" class=\"dataframe\">\n",
              "  <thead>\n",
              "    <tr style=\"text-align: right;\">\n",
              "      <th></th>\n",
              "      <th>Store_number</th>\n",
              "      <th>Date</th>\n",
              "      <th>sales_revenue</th>\n",
              "      <th>customer_count</th>\n",
              "      <th>transactions_count</th>\n",
              "    </tr>\n",
              "  </thead>\n",
              "  <tbody>\n",
              "    <tr>\n",
              "      <th>0</th>\n",
              "      <td>116</td>\n",
              "      <td>2018-07</td>\n",
              "      <td>824.8</td>\n",
              "      <td>90.0</td>\n",
              "      <td>118.0</td>\n",
              "    </tr>\n",
              "  </tbody>\n",
              "</table>\n",
              "</div>"
            ],
            "text/plain": [
              "   Store_number     Date  sales_revenue  customer_count  transactions_count\n",
              "0           116  2018-07          824.8            90.0               118.0"
            ]
          },
          "execution_count": 79,
          "metadata": {},
          "output_type": "execute_result"
        }
      ],
      "source": [
        "# monthly number of transactions\n",
        "monthly_transactions = full[['Store_number', 'Date','Transaction_id']].drop_duplicates().groupby(['Store_number', 'Date']).size().reset_index(name='transactions_count')\n",
        "store_months = store_months.merge(monthly_transactions, on=['Store_number', 'Date'], how='left')\n",
        "store_months['transactions_count'].fillna(0, inplace=True)     # missing value means no transaction, so replace with 0\n",
        "store_months.head(1)"
      ]
    },
    {
      "cell_type": "code",
      "execution_count": null,
      "metadata": {
        "execution": {
          "iopub.execute_input": "2022-08-30T03:13:58.190472Z",
          "iopub.status.busy": "2022-08-30T03:13:58.190019Z",
          "iopub.status.idle": "2022-08-30T03:13:58.242776Z",
          "shell.execute_reply": "2022-08-30T03:13:58.241585Z"
        },
        "papermill": {
          "duration": 0.147008,
          "end_time": "2022-08-30T03:13:58.245822",
          "exception": false,
          "start_time": "2022-08-30T03:13:58.098814",
          "status": "completed"
        },
        "tags": [],
        "id": "e1abe8da",
        "outputId": "6aed8aef-0fd7-44ae-81a2-a0bd319b87f4"
      },
      "outputs": [
        {
          "data": {
            "text/html": [
              "<div>\n",
              "<style scoped>\n",
              "    .dataframe tbody tr th:only-of-type {\n",
              "        vertical-align: middle;\n",
              "    }\n",
              "\n",
              "    .dataframe tbody tr th {\n",
              "        vertical-align: top;\n",
              "    }\n",
              "\n",
              "    .dataframe thead th {\n",
              "        text-align: right;\n",
              "    }\n",
              "</style>\n",
              "<table border=\"1\" class=\"dataframe\">\n",
              "  <thead>\n",
              "    <tr style=\"text-align: right;\">\n",
              "      <th></th>\n",
              "      <th>Store_number</th>\n",
              "      <th>Date</th>\n",
              "      <th>sales_revenue</th>\n",
              "      <th>customer_count</th>\n",
              "      <th>transactions_count</th>\n",
              "      <th>sales_volume</th>\n",
              "    </tr>\n",
              "  </thead>\n",
              "  <tbody>\n",
              "    <tr>\n",
              "      <th>0</th>\n",
              "      <td>116</td>\n",
              "      <td>2018-07</td>\n",
              "      <td>824.8</td>\n",
              "      <td>90.0</td>\n",
              "      <td>118.0</td>\n",
              "      <td>236.0</td>\n",
              "    </tr>\n",
              "  </tbody>\n",
              "</table>\n",
              "</div>"
            ],
            "text/plain": [
              "   Store_number     Date  sales_revenue  customer_count  transactions_count  \\\n",
              "0           116  2018-07          824.8            90.0               118.0   \n",
              "\n",
              "   sales_volume  \n",
              "0         236.0  "
            ]
          },
          "execution_count": 80,
          "metadata": {},
          "output_type": "execute_result"
        }
      ],
      "source": [
        "# monthly sales volume\n",
        "monthly_quantity = full.groupby(['Store_number', 'Date'])['Product_quantity'].sum().reset_index(name='sales_volume')\n",
        "store_months = store_months.merge(monthly_quantity, on=['Store_number', 'Date'], how='left')\n",
        "store_months['sales_volume'].fillna(0, inplace=True)\n",
        "store_months.head(1)"
      ]
    },
    {
      "cell_type": "markdown",
      "source": [],
      "metadata": {
        "id": "CohkKkuAV_nj"
      }
    },
    {
      "cell_type": "markdown",
      "metadata": {
        "papermill": {
          "duration": 0.088385,
          "end_time": "2022-08-30T03:13:58.424535",
          "exception": false,
          "start_time": "2022-08-30T03:13:58.336150",
          "status": "completed"
        },
        "tags": [],
        "id": "c2e8b2d9"
      },
      "source": [
        "<font size=\"3\"> First, calculate the correlation coefficient to evalute the linear correlation between two stores.\n",
        "- <font size=\"3\"> A higher correlation coefficient indicates the two store are positively correlated. In other words, the two stores have very similar trend and patterns.\n",
        "- <font size=\"3\"> A lower correlation coefficient indicates the two store are nagetively correlated. In other words, the two stores have very similar trend and patterns, but in the opposite directions.\n",
        "- <font size=\"3\"> A zero correlation coefficient indicates the two store are completely not correlated at all. There is no relationship between the two stores.  \n",
        "    \n",
        "<font size=\"3\"> Clearly, the store with the highest correlation coefficient is what we look for."
      ]
    },
    {
      "cell_type": "code",
      "execution_count": null,
      "metadata": {
        "execution": {
          "iopub.execute_input": "2022-08-30T03:13:58.606245Z",
          "iopub.status.busy": "2022-08-30T03:13:58.605845Z",
          "iopub.status.idle": "2022-08-30T03:13:58.615121Z",
          "shell.execute_reply": "2022-08-30T03:13:58.613996Z"
        },
        "papermill": {
          "duration": 0.10175,
          "end_time": "2022-08-30T03:13:58.617359",
          "exception": false,
          "start_time": "2022-08-30T03:13:58.515609",
          "status": "completed"
        },
        "tags": [],
        "id": "06204db5"
      },
      "outputs": [],
      "source": [
        "# define a function to calculate the correlation coefficient of a specific attribute between trial store and all other stores\n",
        "def cal_correlation_coeff(dataset, target_attribute, trial_store):\n",
        "    other_stores = [i for i in all_store if i not in store_trial]      # excluding 3 trail stores\n",
        "    trial_months = [i for i in all_months if pd.to_datetime(i) <= pd.to_datetime('2019-02-01')]     # the first 8 months\n",
        "    trial_store_data = dataset[(dataset['Store_number']==trial_store)&(dataset['Date'].isin(trial_months))][target_attribute].tolist()  # extract data of trial store\n",
        "    store_corr = []\n",
        "    for store in other_stores:    # loop throughout all stores excluding the trial store\n",
        "        another_store_data = dataset[(dataset['Store_number']==store)&(dataset['Date'].isin(trial_months))][target_attribute].tolist()\n",
        "        corr_ = pd.DataFrame({'trial_shop':trial_store_data, 'another_store':another_store_data}).corr()['another_store'][0]  # calculate correlation coefficient\n",
        "        store_corr.append([trial_store, store, corr_])\n",
        "    trial_store_sales_corr_df = pd.DataFrame(data=store_corr, columns=['trial_store', 'another_store', f\"{target_attribute}_corr\"])\n",
        "    trial_store_sales_corr_df.fillna(0, inplace=True)   # replace missing values with 0\n",
        "    return trial_store_sales_corr_df"
      ]
    },
    {
      "cell_type": "markdown",
      "source": [],
      "metadata": {
        "id": "W3mlRw1hWFjT"
      }
    },
    {
      "cell_type": "markdown",
      "metadata": {
        "papermill": {
          "duration": 0.087769,
          "end_time": "2022-08-30T03:13:58.788844",
          "exception": false,
          "start_time": "2022-08-30T03:13:58.701075",
          "status": "completed"
        },
        "tags": [],
        "id": "29374728"
      },
      "source": [
        "<font size=\"3\"> Then, calculate the difference in key metrics between two stores. Note: need to normalize the differences in order to enable the differences to be used to measure the similarity along with the correlation coefficient.\n",
        "- <font size=\"3\"> A higher difference indicates values of a metric of two stores are quite different.\n",
        "- <font size=\"3\"> A lower difference indicates values of a metric of two stores are quite close.\n",
        "\n",
        "<font size=\"3\"> **Note: There is no necessary relationship between the difference and the correlation coefficient.**"
      ]
    },
    {
      "cell_type": "code",
      "execution_count": null,
      "metadata": {
        "execution": {
          "iopub.execute_input": "2022-08-30T03:13:58.962806Z",
          "iopub.status.busy": "2022-08-30T03:13:58.961972Z",
          "iopub.status.idle": "2022-08-30T03:13:58.974451Z",
          "shell.execute_reply": "2022-08-30T03:13:58.973473Z"
        },
        "papermill": {
          "duration": 0.103174,
          "end_time": "2022-08-30T03:13:58.977013",
          "exception": false,
          "start_time": "2022-08-30T03:13:58.873839",
          "status": "completed"
        },
        "tags": [],
        "id": "0c562ca0"
      },
      "outputs": [],
      "source": [
        "# define a function to calculate difference of a specific attribute between trial store and all other stores\n",
        "def cal_difference(dataset, target_attribute, trial_store):\n",
        "    other_stores = [i for i in all_store if i not in store_trial]      # excluding 3 trail stores\n",
        "    trial_months = [i for i in all_months if pd.to_datetime(i) <= pd.to_datetime('2019-02-01')]     # the first 8 months\n",
        "    trial_store_data = dataset[(dataset['Store_number']==trial_store)&(dataset['Date'].isin(trial_months))][target_attribute].tolist()  # extract data of trial store\n",
        "    data_df = pd.DataFrame(columns=['Date', 'trial_store', 'another_store', 'target', 'another'])\n",
        "    for store in other_stores:     # loop throughout all stores excluding the trial store\n",
        "        another_store_data = dataset[(dataset['Store_number']==store)&(dataset['Date'].isin(trial_months))][target_attribute].tolist()\n",
        "        diff_df = pd.DataFrame({'Date':trial_months,\n",
        "                                'trial_store':[trial_store]*len(trial_months),\n",
        "                                'another_store':[store]*len(trial_months),\n",
        "                                'target':trial_store_data,\n",
        "                                'another':another_store_data})\n",
        "        data_df = pd.concat([data_df, diff_df], axis=0, ignore_index=True)\n",
        "    data_df['absolute_diff'] = np.abs(data_df['target'] - data_df['another'])\n",
        "    data_df = data_df.merge(data_df.groupby(['Date']).agg([np.max, np.min])['absolute_diff'].reset_index(), on=['Date'], how='left')\n",
        "    # normalize the differences, make the value in the range between 0 and 1\n",
        "    data_df['diff_magnitude'] = 1 - (data_df['absolute_diff'] - data_df['amin'])/(data_df['amax'] - data_df['amin'])\n",
        "    avg_diff = data_df.groupby(['trial_store', 'another_store'])['diff_magnitude'].mean().reset_index(name=f\"{target_attribute}_avg_diff_magnitude\")\n",
        "    return avg_diff"
      ]
    },
    {
      "cell_type": "markdown",
      "source": [],
      "metadata": {
        "id": "93IYv85ZWMot"
      }
    },
    {
      "cell_type": "markdown",
      "metadata": {
        "papermill": {
          "duration": 0.084944,
          "end_time": "2022-08-30T03:13:59.145885",
          "exception": false,
          "start_time": "2022-08-30T03:13:59.060941",
          "status": "completed"
        },
        "tags": [],
        "id": "c3ab0099"
      },
      "source": [
        "<font size=\"3\"> Let's find out which store is the control store of the trial store 77."
      ]
    },
    {
      "cell_type": "code",
      "execution_count": null,
      "metadata": {
        "execution": {
          "iopub.execute_input": "2022-08-30T03:13:59.320344Z",
          "iopub.status.busy": "2022-08-30T03:13:59.319104Z",
          "iopub.status.idle": "2022-08-30T03:14:01.476249Z",
          "shell.execute_reply": "2022-08-30T03:14:01.474755Z"
        },
        "papermill": {
          "duration": 2.247067,
          "end_time": "2022-08-30T03:14:01.479254",
          "exception": false,
          "start_time": "2022-08-30T03:13:59.232187",
          "status": "completed"
        },
        "tags": [],
        "id": "44fa481a"
      },
      "outputs": [],
      "source": [
        "#\n",
        "trial_store = 77\n",
        "# key metrics\n",
        "metric_1 = 'sales_revenue'\n",
        "metric_2 = 'customer_count'\n",
        "# correlation coefficient\n",
        "metric_1_corr = cal_correlation_coeff(dataset=store_months, target_attribute=metric_1, trial_store=trial_store)\n",
        "metric_2_corr = cal_correlation_coeff(dataset=store_months, target_attribute=metric_2, trial_store=trial_store)\n",
        "# difference\n",
        "metric_1_diff = cal_difference(dataset=store_months, target_attribute=metric_1, trial_store=trial_store)\n",
        "metric_2_diff = cal_difference(dataset=store_months, target_attribute=metric_2, trial_store=trial_store)"
      ]
    },
    {
      "cell_type": "markdown",
      "metadata": {
        "papermill": {
          "duration": 0.087631,
          "end_time": "2022-08-30T03:14:01.656402",
          "exception": false,
          "start_time": "2022-08-30T03:14:01.568771",
          "status": "completed"
        },
        "tags": [],
        "id": "58c53651"
      },
      "source": [
        "<font size=\"3\"> It's clear that the store 233 is the control store (most similar store) of the trial store 77."
      ]
    },
    {
      "cell_type": "code",
      "source": [],
      "metadata": {
        "id": "TuyUv3tXWa81"
      },
      "execution_count": null,
      "outputs": []
    },
    {
      "cell_type": "code",
      "execution_count": null,
      "metadata": {
        "execution": {
          "iopub.execute_input": "2022-08-30T03:14:01.829572Z",
          "iopub.status.busy": "2022-08-30T03:14:01.829136Z",
          "iopub.status.idle": "2022-08-30T03:14:01.859387Z",
          "shell.execute_reply": "2022-08-30T03:14:01.858602Z"
        },
        "papermill": {
          "duration": 0.119246,
          "end_time": "2022-08-30T03:14:01.861817",
          "exception": false,
          "start_time": "2022-08-30T03:14:01.742571",
          "status": "completed"
        },
        "tags": [],
        "id": "85d43f68",
        "outputId": "d42f6ce0-bd53-42ca-8199-657f05009e17"
      },
      "outputs": [
        {
          "data": {
            "text/html": [
              "<div>\n",
              "<style scoped>\n",
              "    .dataframe tbody tr th:only-of-type {\n",
              "        vertical-align: middle;\n",
              "    }\n",
              "\n",
              "    .dataframe tbody tr th {\n",
              "        vertical-align: top;\n",
              "    }\n",
              "\n",
              "    .dataframe thead th {\n",
              "        text-align: right;\n",
              "    }\n",
              "</style>\n",
              "<table border=\"1\" class=\"dataframe\">\n",
              "  <thead>\n",
              "    <tr style=\"text-align: right;\">\n",
              "      <th></th>\n",
              "      <th>trial_store</th>\n",
              "      <th>another_store</th>\n",
              "      <th>sales_revenue_corr</th>\n",
              "      <th>customer_count_corr</th>\n",
              "      <th>sales_revenue_avg_diff_magnitude</th>\n",
              "      <th>customer_count_avg_diff_magnitude</th>\n",
              "      <th>avg_diff</th>\n",
              "      <th>avg_score</th>\n",
              "    </tr>\n",
              "  </thead>\n",
              "  <tbody>\n",
              "    <tr>\n",
              "      <th>98</th>\n",
              "      <td>77</td>\n",
              "      <td>233</td>\n",
              "      <td>0.963602</td>\n",
              "      <td>0.968535</td>\n",
              "      <td>0.987485</td>\n",
              "      <td>0.982307</td>\n",
              "      <td>0.984896</td>\n",
              "      <td>0.977365</td>\n",
              "    </tr>\n",
              "    <tr>\n",
              "      <th>220</th>\n",
              "      <td>77</td>\n",
              "      <td>41</td>\n",
              "      <td>0.553435</td>\n",
              "      <td>0.836286</td>\n",
              "      <td>0.964095</td>\n",
              "      <td>0.971600</td>\n",
              "      <td>0.967848</td>\n",
              "      <td>0.858653</td>\n",
              "    </tr>\n",
              "    <tr>\n",
              "      <th>127</th>\n",
              "      <td>77</td>\n",
              "      <td>17</td>\n",
              "      <td>0.734715</td>\n",
              "      <td>0.661942</td>\n",
              "      <td>0.889267</td>\n",
              "      <td>0.966167</td>\n",
              "      <td>0.927717</td>\n",
              "      <td>0.835962</td>\n",
              "    </tr>\n",
              "    <tr>\n",
              "      <th>212</th>\n",
              "      <td>77</td>\n",
              "      <td>254</td>\n",
              "      <td>0.652782</td>\n",
              "      <td>0.765944</td>\n",
              "      <td>0.914533</td>\n",
              "      <td>0.904528</td>\n",
              "      <td>0.909530</td>\n",
              "      <td>0.829463</td>\n",
              "    </tr>\n",
              "    <tr>\n",
              "      <th>100</th>\n",
              "      <td>77</td>\n",
              "      <td>115</td>\n",
              "      <td>0.727633</td>\n",
              "      <td>0.574411</td>\n",
              "      <td>0.934943</td>\n",
              "      <td>0.959098</td>\n",
              "      <td>0.947020</td>\n",
              "      <td>0.828621</td>\n",
              "    </tr>\n",
              "  </tbody>\n",
              "</table>\n",
              "</div>"
            ],
            "text/plain": [
              "     trial_store  another_store  sales_revenue_corr  customer_count_corr  \\\n",
              "98            77            233            0.963602             0.968535   \n",
              "220           77             41            0.553435             0.836286   \n",
              "127           77             17            0.734715             0.661942   \n",
              "212           77            254            0.652782             0.765944   \n",
              "100           77            115            0.727633             0.574411   \n",
              "\n",
              "     sales_revenue_avg_diff_magnitude  customer_count_avg_diff_magnitude  \\\n",
              "98                           0.987485                           0.982307   \n",
              "220                          0.964095                           0.971600   \n",
              "127                          0.889267                           0.966167   \n",
              "212                          0.914533                           0.904528   \n",
              "100                          0.934943                           0.959098   \n",
              "\n",
              "     avg_diff  avg_score  \n",
              "98   0.984896   0.977365  \n",
              "220  0.967848   0.858653  \n",
              "127  0.927717   0.835962  \n",
              "212  0.909530   0.829463  \n",
              "100  0.947020   0.828621  "
            ]
          },
          "execution_count": 84,
          "metadata": {},
          "output_type": "execute_result"
        }
      ],
      "source": [
        "#\n",
        "store_score = metric_1_corr.merge(metric_2_corr, on=['trial_store','another_store'])\n",
        "store_score = store_score.merge(metric_1_diff, on=['trial_store','another_store'])\n",
        "store_score = store_score.merge(metric_2_diff, on=['trial_store','another_store'])\n",
        "#\n",
        "store_score['avg_diff'] = store_score[[f'{metric_1}_avg_diff_magnitude', f'{metric_2}_avg_diff_magnitude']].mean(axis=1)\n",
        "store_score['avg_score'] = store_score[store_score.columns[2:]].mean(axis=1)\n",
        "store_score.sort_values(by=['avg_score'], ascending=False).head()    # top 5 store with the highest similarity."
      ]
    },
    {
      "cell_type": "markdown",
      "metadata": {
        "papermill": {
          "duration": 0.084562,
          "end_time": "2022-08-30T03:14:02.398372",
          "exception": false,
          "start_time": "2022-08-30T03:14:02.313810",
          "status": "completed"
        },
        "tags": [],
        "id": "a249204c"
      },
      "source": [
        "<font size=\"3\"> We can clearly see, in the trial period, two stores display very different trend and pattern."
      ]
    },
    {
      "cell_type": "code",
      "source": [],
      "metadata": {
        "id": "0KfrMqnyWiyS"
      },
      "execution_count": null,
      "outputs": []
    },
    {
      "cell_type": "code",
      "execution_count": null,
      "metadata": {
        "execution": {
          "iopub.execute_input": "2022-08-30T03:14:02.568852Z",
          "iopub.status.busy": "2022-08-30T03:14:02.568041Z",
          "iopub.status.idle": "2022-08-30T03:14:03.032703Z",
          "shell.execute_reply": "2022-08-30T03:14:03.031585Z"
        },
        "papermill": {
          "duration": 0.552694,
          "end_time": "2022-08-30T03:14:03.035358",
          "exception": false,
          "start_time": "2022-08-30T03:14:02.482664",
          "status": "completed"
        },
        "tags": [],
        "id": "b820167c",
        "outputId": "f9ac0bf9-31e3-42f8-83d2-23f330a163da"
      },
      "outputs": [
        {
          "data": {
            "image/png": "[encoded data removed]",
            "text/plain": [
              "<Figure size 1728x432 with 2 Axes>"
            ]
          },
          "metadata": {
            "needs_background": "light"
          },
          "output_type": "display_data"
        }
      ],
      "source": [
        "#\n",
        "fig = plt.figure(figsize=(24,6))\n",
        "# Sales revenue\n",
        "fig.add_subplot(1, 2, 1)\n",
        "sns.lineplot(data=trial_control_data, x='Date', y=metric_1, hue='store_type', markers=True, style=\"store_type\", dashes=False)\n",
        "plt.axvline('2019-02', color='black', linestyle='dotted')\n",
        "plt.grid()\n",
        "plt.title(metric_1)\n",
        "# Number of customers\n",
        "fig.add_subplot(1, 2, 2)\n",
        "sns.lineplot(data=trial_control_data, x='Date', y=metric_2, hue='store_type', markers=True, style=\"store_type\", dashes=False)\n",
        "plt.axvline('2019-02', color='black', linestyle='dotted')\n",
        "plt.grid()\n",
        "plt.title(metric_2)\n",
        "plt.show()"
      ]
    },
    {
      "cell_type": "markdown",
      "metadata": {
        "papermill": {
          "duration": 0.08534,
          "end_time": "2022-08-30T03:14:03.210755",
          "exception": false,
          "start_time": "2022-08-30T03:14:03.125415",
          "status": "completed"
        },
        "tags": [],
        "id": "96d4dfbd"
      },
      "source": [
        "<font size=\"3\"> Let's calculate the difference in key metrics between two stores. The ratio of differnece to metric value of control store can display clearer patterns."
      ]
    },
    {
      "cell_type": "code",
      "source": [],
      "metadata": {
        "id": "F5peide5Wpgd"
      },
      "execution_count": null,
      "outputs": []
    },
    {
      "cell_type": "code",
      "execution_count": null,
      "metadata": {
        "execution": {
          "iopub.execute_input": "2022-08-30T03:14:03.383789Z",
          "iopub.status.busy": "2022-08-30T03:14:03.383068Z",
          "iopub.status.idle": "2022-08-30T03:14:03.405478Z",
          "shell.execute_reply": "2022-08-30T03:14:03.404333Z"
        },
        "papermill": {
          "duration": 0.111933,
          "end_time": "2022-08-30T03:14:03.408057",
          "exception": false,
          "start_time": "2022-08-30T03:14:03.296124",
          "status": "completed"
        },
        "tags": [],
        "id": "bcc3e2c0",
        "outputId": "e502f30b-d23f-4279-ec7e-42a7c3d8eac4"
      },
      "outputs": [
        {
          "data": {
            "text/html": [
              "<div>\n",
              "<style scoped>\n",
              "    .dataframe tbody tr th:only-of-type {\n",
              "        vertical-align: middle;\n",
              "    }\n",
              "\n",
              "    .dataframe tbody tr th {\n",
              "        vertical-align: top;\n",
              "    }\n",
              "\n",
              "    .dataframe thead th {\n",
              "        text-align: right;\n",
              "    }\n",
              "</style>\n",
              "<table border=\"1\" class=\"dataframe\">\n",
              "  <thead>\n",
              "    <tr style=\"text-align: right;\">\n",
              "      <th></th>\n",
              "      <th>Date</th>\n",
              "      <th>sales_revenue_diff</th>\n",
              "      <th>customer_count_diff</th>\n",
              "      <th>sales_revenue_diff_percent</th>\n",
              "      <th>customer_count_diff_percent</th>\n",
              "    </tr>\n",
              "  </thead>\n",
              "  <tbody>\n",
              "    <tr>\n",
              "      <th>0</th>\n",
              "      <td>2018-07-01</td>\n",
              "      <td>-8.3</td>\n",
              "      <td>-1.0</td>\n",
              "      <td>-0.029153</td>\n",
              "      <td>-0.020000</td>\n",
              "    </tr>\n",
              "    <tr>\n",
              "      <th>1</th>\n",
              "      <td>2018-08-01</td>\n",
              "      <td>-10.6</td>\n",
              "      <td>3.0</td>\n",
              "      <td>-0.039835</td>\n",
              "      <td>0.068182</td>\n",
              "    </tr>\n",
              "    <tr>\n",
              "      <th>2</th>\n",
              "      <td>2018-09-01</td>\n",
              "      <td>-1.3</td>\n",
              "      <td>0.0</td>\n",
              "      <td>-0.005817</td>\n",
              "      <td>0.000000</td>\n",
              "    </tr>\n",
              "    <tr>\n",
              "      <th>3</th>\n",
              "      <td>2018-10-01</td>\n",
              "      <td>35.0</td>\n",
              "      <td>4.0</td>\n",
              "      <td>0.219711</td>\n",
              "      <td>0.125000</td>\n",
              "    </tr>\n",
              "    <tr>\n",
              "      <th>4</th>\n",
              "      <td>2018-11-01</td>\n",
              "      <td>18.4</td>\n",
              "      <td>0.0</td>\n",
              "      <td>0.089104</td>\n",
              "      <td>0.000000</td>\n",
              "    </tr>\n",
              "    <tr>\n",
              "      <th>5</th>\n",
              "      <td>2018-12-01</td>\n",
              "      <td>-7.4</td>\n",
              "      <td>-1.0</td>\n",
              "      <td>-0.027086</td>\n",
              "      <td>-0.021739</td>\n",
              "    </tr>\n",
              "    <tr>\n",
              "      <th>6</th>\n",
              "      <td>2019-01-01</td>\n",
              "      <td>50.9</td>\n",
              "      <td>3.0</td>\n",
              "      <td>0.338206</td>\n",
              "      <td>0.096774</td>\n",
              "    </tr>\n",
              "    <tr>\n",
              "      <th>7</th>\n",
              "      <td>2019-02-01</td>\n",
              "      <td>-3.9</td>\n",
              "      <td>1.0</td>\n",
              "      <td>-0.017053</td>\n",
              "      <td>0.023256</td>\n",
              "    </tr>\n",
              "    <tr>\n",
              "      <th>8</th>\n",
              "      <td>2019-03-01</td>\n",
              "      <td>64.1</td>\n",
              "      <td>8.0</td>\n",
              "      <td>0.335602</td>\n",
              "      <td>0.210526</td>\n",
              "    </tr>\n",
              "    <tr>\n",
              "      <th>9</th>\n",
              "      <td>2019-04-01</td>\n",
              "      <td>111.5</td>\n",
              "      <td>19.0</td>\n",
              "      <td>0.733553</td>\n",
              "      <td>0.678571</td>\n",
              "    </tr>\n",
              "    <tr>\n",
              "      <th>10</th>\n",
              "      <td>2019-05-01</td>\n",
              "      <td>-50.2</td>\n",
              "      <td>-2.0</td>\n",
              "      <td>-0.155659</td>\n",
              "      <td>-0.036364</td>\n",
              "    </tr>\n",
              "    <tr>\n",
              "      <th>11</th>\n",
              "      <td>2019-06-01</td>\n",
              "      <td>41.6</td>\n",
              "      <td>1.0</td>\n",
              "      <td>0.195397</td>\n",
              "      <td>0.025641</td>\n",
              "    </tr>\n",
              "  </tbody>\n",
              "</table>\n",
              "</div>"
            ],
            "text/plain": [
              "         Date  sales_revenue_diff  customer_count_diff  \\\n",
              "0  2018-07-01                -8.3                 -1.0   \n",
              "1  2018-08-01               -10.6                  3.0   \n",
              "2  2018-09-01                -1.3                  0.0   \n",
              "3  2018-10-01                35.0                  4.0   \n",
              "4  2018-11-01                18.4                  0.0   \n",
              "5  2018-12-01                -7.4                 -1.0   \n",
              "6  2019-01-01                50.9                  3.0   \n",
              "7  2019-02-01                -3.9                  1.0   \n",
              "8  2019-03-01                64.1                  8.0   \n",
              "9  2019-04-01               111.5                 19.0   \n",
              "10 2019-05-01               -50.2                 -2.0   \n",
              "11 2019-06-01                41.6                  1.0   \n",
              "\n",
              "    sales_revenue_diff_percent  customer_count_diff_percent  \n",
              "0                    -0.029153                    -0.020000  \n",
              "1                    -0.039835                     0.068182  \n",
              "2                    -0.005817                     0.000000  \n",
              "3                     0.219711                     0.125000  \n",
              "4                     0.089104                     0.000000  \n",
              "5                    -0.027086                    -0.021739  \n",
              "6                     0.338206                     0.096774  \n",
              "7                    -0.017053                     0.023256  \n",
              "8                     0.335602                     0.210526  \n",
              "9                     0.733553                     0.678571  \n",
              "10                   -0.155659                    -0.036364  \n",
              "11                    0.195397                     0.025641  "
            ]
          },
          "execution_count": 87,
          "metadata": {},
          "output_type": "execute_result"
        }
      ],
      "source": [
        "trial_control_diff = control_data[['Date']].copy()\n",
        "trial_control_diff['Date'] = pd.to_datetime(trial_control_diff['Date'])\n",
        "trial_control_diff[f'{metric_1}_diff'] = trial_data[metric_1] - control_data[metric_1]\n",
        "trial_control_diff[f'{metric_2}_diff'] = trial_data[metric_2] - control_data[metric_2]\n",
        "trial_control_diff[f'{metric_1}_diff_percent'] = trial_control_diff[f'{metric_1}_diff']/control_data[metric_1]\n",
        "trial_control_diff[f'{metric_2}_diff_percent'] = trial_control_diff[f'{metric_2}_diff']/control_data[metric_2]\n",
        "trial_control_diff"
      ]
    },
    {
      "cell_type": "markdown",
      "metadata": {
        "papermill": {
          "duration": 0.085527,
          "end_time": "2022-08-30T03:14:03.579195",
          "exception": false,
          "start_time": "2022-08-30T03:14:03.493668",
          "status": "completed"
        },
        "tags": [],
        "id": "9deaa0c8"
      },
      "source": [
        "- <font size=\"3\"> **Sales revenue**\n",
        "    - <font size=\"3\"> **The new trial layouts had a significant, positive impact on sales revenue (increase by up to 73%) in April.**\n",
        "    - <font size=\"3\"> **As the maximum difference in sales revenue during the period before trial reached 34%, the difference in March might not be caused by the new trial layouts.**\n",
        "    - <font size=\"3\"> **The new trial layouts seemed to have a positive impact in June and a nagetive impact in May.**\n",
        "- <font size=\"3\"> **Number of customers**\n",
        "    - <font size=\"3\"> **The new trial layouts had a significant, positive impact on the number of customers (increase by up to 68%) in April.**\n",
        "    - <font size=\"3\"> **As the maximum difference in the number of customers during the period before trial reached 12%, the difference in March might not completely be caused by the new trial layouts.**\n",
        "    - <font size=\"3\"> **The new trial layouts had a weak impact in May and June.**"
      ]
    },
    {
      "cell_type": "code",
      "execution_count": null,
      "metadata": {
        "execution": {
          "iopub.execute_input": "2022-08-30T03:14:03.753878Z",
          "iopub.status.busy": "2022-08-30T03:14:03.752978Z",
          "iopub.status.idle": "2022-08-30T03:14:04.360257Z",
          "shell.execute_reply": "2022-08-30T03:14:04.359135Z"
        },
        "papermill": {
          "duration": 0.697856,
          "end_time": "2022-08-30T03:14:04.362737",
          "exception": false,
          "start_time": "2022-08-30T03:14:03.664881",
          "status": "completed"
        },
        "tags": [],
        "id": "c1ae5e28",
        "outputId": "6c41b39c-96f3-4e90-fa7e-2abf04ce031f"
      },
      "outputs": [
        {
          "data": {
            "image/png": "[encoded data removed]",
            "text/plain": [
              "<Figure size 1728x432 with 2 Axes>"
            ]
          },
          "metadata": {
            "needs_background": "light"
          },
          "output_type": "display_data"
        }
      ],
      "source": [
        "#\n",
        "fig, ax = plt.subplots(1, 2, figsize=(24,6))\n",
        "#\n",
        "ax[0].bar(trial_control_diff[trial_control_diff['Date']<=pd.to_datetime('2019-02-01')]['Date'],\n",
        "          trial_control_diff[trial_control_diff['Date']<=pd.to_datetime('2019-02-01')][f'{metric_1}_diff_percent'],\n",
        "          width=20, label='before trial')\n",
        "ax[0].bar(trial_control_diff[trial_control_diff['Date']>pd.to_datetime('2019-02-01')]['Date'],\n",
        "          trial_control_diff[trial_control_diff['Date']>pd.to_datetime('2019-02-01')][f'{metric_1}_diff_percent'],\n",
        "          width=20, label='trial')\n",
        "add_value_to_barchart(ax=ax[0], gap_between_value_bar=0.01)\n",
        "ax[0].xaxis.set_major_locator(mdates.MonthLocator())\n",
        "ax[0].set_title(f'{metric_1} trend')\n",
        "ax[0].legend()\n",
        "ax[0].set_ylabel('Proportion')\n",
        "#\n",
        "ax[1].bar(trial_control_diff[trial_control_diff['Date']<=pd.to_datetime('2019-02-01')]['Date'],\n",
        "          trial_control_diff[trial_control_diff['Date']<=pd.to_datetime('2019-02-01')][f'{metric_2}_diff_percent'],\n",
        "          width=20, label='before trial')\n",
        "ax[1].bar(trial_control_diff[trial_control_diff['Date']>pd.to_datetime('2019-02-01')]['Date'],\n",
        "          trial_control_diff[trial_control_diff['Date']>pd.to_datetime('2019-02-01')][f'{metric_2}_diff_percent'],\n",
        "          width=20, label='trial')\n",
        "add_value_to_barchart(ax=ax[1], gap_between_value_bar=0.01)\n",
        "ax[1].xaxis.set_major_locator(mdates.MonthLocator())\n",
        "ax[1].set_title(f'{metric_2} trend')\n",
        "ax[1].legend()\n",
        "ax[1].set_ylabel('Proportion')\n",
        "plt.show()"
      ]
    },
    {
      "cell_type": "markdown",
      "metadata": {
        "papermill": {
          "duration": 0.090087,
          "end_time": "2022-08-30T03:14:04.543788",
          "exception": false,
          "start_time": "2022-08-30T03:14:04.453701",
          "status": "completed"
        },
        "tags": [],
        "id": "c993272b"
      },
      "source": [
        "<font size=\"3\"> Let's find out which store is the control store of the trial store 86."
      ]
    },
    {
      "cell_type": "code",
      "execution_count": null,
      "metadata": {
        "execution": {
          "iopub.execute_input": "2022-08-30T03:14:04.720024Z",
          "iopub.status.busy": "2022-08-30T03:14:04.719000Z",
          "iopub.status.idle": "2022-08-30T03:14:06.820119Z",
          "shell.execute_reply": "2022-08-30T03:14:06.819154Z"
        },
        "papermill": {
          "duration": 2.192425,
          "end_time": "2022-08-30T03:14:06.822645",
          "exception": false,
          "start_time": "2022-08-30T03:14:04.630220",
          "status": "completed"
        },
        "tags": [],
        "id": "f763f7ef"
      },
      "outputs": [],
      "source": [
        "#\n",
        "trial_store = 86\n",
        "# key metrics\n",
        "metric_1 = 'sales_revenue'\n",
        "metric_2 = 'customer_count'\n",
        "# correlation coefficient\n",
        "metric_1_corr = cal_correlation_coeff(dataset=store_months, target_attribute=metric_1, trial_store=trial_store)\n",
        "metric_2_corr = cal_correlation_coeff(dataset=store_months, target_attribute=metric_2, trial_store=trial_store)\n",
        "# difference\n",
        "metric_1_diff = cal_difference(dataset=store_months, target_attribute=metric_1, trial_store=trial_store)\n",
        "metric_2_diff = cal_difference(dataset=store_months, target_attribute=metric_2, trial_store=trial_store)"
      ]
    },
    {
      "cell_type": "markdown",
      "metadata": {
        "papermill": {
          "duration": 0.087751,
          "end_time": "2022-08-30T03:14:06.998445",
          "exception": false,
          "start_time": "2022-08-30T03:14:06.910694",
          "status": "completed"
        },
        "tags": [],
        "id": "914f94a8"
      },
      "source": [
        "<font size=\"3\"> We can see the store 155 is the control store (most similar store) of the trial store 86."
      ]
    },
    {
      "cell_type": "code",
      "execution_count": null,
      "metadata": {
        "execution": {
          "iopub.execute_input": "2022-08-30T03:14:07.179255Z",
          "iopub.status.busy": "2022-08-30T03:14:07.178501Z",
          "iopub.status.idle": "2022-08-30T03:14:07.206804Z",
          "shell.execute_reply": "2022-08-30T03:14:07.205803Z"
        },
        "papermill": {
          "duration": 0.121481,
          "end_time": "2022-08-30T03:14:07.209057",
          "exception": false,
          "start_time": "2022-08-30T03:14:07.087576",
          "status": "completed"
        },
        "tags": [],
        "id": "614e6672",
        "outputId": "c48b9735-f34e-44e3-80f0-74f85d312aad"
      },
      "outputs": [
        {
          "data": {
            "text/html": [
              "<div>\n",
              "<style scoped>\n",
              "    .dataframe tbody tr th:only-of-type {\n",
              "        vertical-align: middle;\n",
              "    }\n",
              "\n",
              "    .dataframe tbody tr th {\n",
              "        vertical-align: top;\n",
              "    }\n",
              "\n",
              "    .dataframe thead th {\n",
              "        text-align: right;\n",
              "    }\n",
              "</style>\n",
              "<table border=\"1\" class=\"dataframe\">\n",
              "  <thead>\n",
              "    <tr style=\"text-align: right;\">\n",
              "      <th></th>\n",
              "      <th>trial_store</th>\n",
              "      <th>another_store</th>\n",
              "      <th>sales_revenue_corr</th>\n",
              "      <th>customer_count_corr</th>\n",
              "      <th>sales_revenue_avg_diff_magnitude</th>\n",
              "      <th>customer_count_avg_diff_magnitude</th>\n",
              "      <th>avg_diff</th>\n",
              "      <th>avg_score</th>\n",
              "    </tr>\n",
              "  </thead>\n",
              "  <tbody>\n",
              "    <tr>\n",
              "      <th>85</th>\n",
              "      <td>86</td>\n",
              "      <td>155</td>\n",
              "      <td>0.811905</td>\n",
              "      <td>0.486872</td>\n",
              "      <td>0.960952</td>\n",
              "      <td>0.954473</td>\n",
              "      <td>0.957713</td>\n",
              "      <td>0.834383</td>\n",
              "    </tr>\n",
              "    <tr>\n",
              "      <th>126</th>\n",
              "      <td>86</td>\n",
              "      <td>147</td>\n",
              "      <td>0.683127</td>\n",
              "      <td>0.594304</td>\n",
              "      <td>0.920498</td>\n",
              "      <td>0.908710</td>\n",
              "      <td>0.914604</td>\n",
              "      <td>0.804249</td>\n",
              "    </tr>\n",
              "    <tr>\n",
              "      <th>45</th>\n",
              "      <td>86</td>\n",
              "      <td>229</td>\n",
              "      <td>0.546859</td>\n",
              "      <td>0.638922</td>\n",
              "      <td>0.931674</td>\n",
              "      <td>0.950029</td>\n",
              "      <td>0.940852</td>\n",
              "      <td>0.801667</td>\n",
              "    </tr>\n",
              "    <tr>\n",
              "      <th>131</th>\n",
              "      <td>86</td>\n",
              "      <td>172</td>\n",
              "      <td>0.646093</td>\n",
              "      <td>0.363517</td>\n",
              "      <td>0.942445</td>\n",
              "      <td>0.926415</td>\n",
              "      <td>0.934430</td>\n",
              "      <td>0.762580</td>\n",
              "    </tr>\n",
              "    <tr>\n",
              "      <th>8</th>\n",
              "      <td>86</td>\n",
              "      <td>231</td>\n",
              "      <td>0.721680</td>\n",
              "      <td>0.442559</td>\n",
              "      <td>0.795727</td>\n",
              "      <td>0.931624</td>\n",
              "      <td>0.863675</td>\n",
              "      <td>0.751053</td>\n",
              "    </tr>\n",
              "  </tbody>\n",
              "</table>\n",
              "</div>"
            ],
            "text/plain": [
              "     trial_store  another_store  sales_revenue_corr  customer_count_corr  \\\n",
              "85            86            155            0.811905             0.486872   \n",
              "126           86            147            0.683127             0.594304   \n",
              "45            86            229            0.546859             0.638922   \n",
              "131           86            172            0.646093             0.363517   \n",
              "8             86            231            0.721680             0.442559   \n",
              "\n",
              "     sales_revenue_avg_diff_magnitude  customer_count_avg_diff_magnitude  \\\n",
              "85                           0.960952                           0.954473   \n",
              "126                          0.920498                           0.908710   \n",
              "45                           0.931674                           0.950029   \n",
              "131                          0.942445                           0.926415   \n",
              "8                            0.795727                           0.931624   \n",
              "\n",
              "     avg_diff  avg_score  \n",
              "85   0.957713   0.834383  \n",
              "126  0.914604   0.804249  \n",
              "45   0.940852   0.801667  \n",
              "131  0.934430   0.762580  \n",
              "8    0.863675   0.751053  "
            ]
          },
          "execution_count": 90,
          "metadata": {},
          "output_type": "execute_result"
        }
      ],
      "source": [
        "#\n",
        "store_score = metric_1_corr.merge(metric_2_corr, on=['trial_store','another_store'])\n",
        "store_score = store_score.merge(metric_1_diff, on=['trial_store','another_store'])\n",
        "store_score = store_score.merge(metric_2_diff, on=['trial_store','another_store'])\n",
        "#\n",
        "store_score['avg_diff'] = store_score[[f'{metric_1}_avg_diff_magnitude', f'{metric_2}_avg_diff_magnitude']].mean(axis=1)\n",
        "store_score['avg_score'] = store_score[store_score.columns[2:]].mean(axis=1)\n",
        "store_score.sort_values(by=['avg_score'], ascending=False).head()    # top 5 store with the highest similarity."
      ]
    },
    {
      "cell_type": "markdown",
      "metadata": {
        "papermill": {
          "duration": 0.088348,
          "end_time": "2022-08-30T03:14:07.384432",
          "exception": false,
          "start_time": "2022-08-30T03:14:07.296084",
          "status": "completed"
        },
        "tags": [],
        "id": "841bbcca"
      },
      "source": [
        "<font size=\"3\"> Compare the key metrics between trial store and control store."
      ]
    },
    {
      "cell_type": "code",
      "execution_count": null,
      "metadata": {
        "execution": {
          "iopub.execute_input": "2022-08-30T03:14:07.585683Z",
          "iopub.status.busy": "2022-08-30T03:14:07.584530Z",
          "iopub.status.idle": "2022-08-30T03:14:07.606984Z",
          "shell.execute_reply": "2022-08-30T03:14:07.605905Z"
        },
        "papermill": {
          "duration": 0.135976,
          "end_time": "2022-08-30T03:14:07.609163",
          "exception": false,
          "start_time": "2022-08-30T03:14:07.473187",
          "status": "completed"
        },
        "tags": [],
        "id": "0fd1954e",
        "outputId": "c037a188-fcca-455e-f824-c861faae1c5e"
      },
      "outputs": [
        {
          "data": {
            "text/html": [
              "<div>\n",
              "<style scoped>\n",
              "    .dataframe tbody tr th:only-of-type {\n",
              "        vertical-align: middle;\n",
              "    }\n",
              "\n",
              "    .dataframe tbody tr th {\n",
              "        vertical-align: top;\n",
              "    }\n",
              "\n",
              "    .dataframe thead th {\n",
              "        text-align: right;\n",
              "    }\n",
              "</style>\n",
              "<table border=\"1\" class=\"dataframe\">\n",
              "  <thead>\n",
              "    <tr style=\"text-align: right;\">\n",
              "      <th></th>\n",
              "      <th>Store_number</th>\n",
              "      <th>Date</th>\n",
              "      <th>sales_revenue</th>\n",
              "      <th>customer_count</th>\n",
              "      <th>transactions_count</th>\n",
              "      <th>sales_volume</th>\n",
              "      <th>store_type</th>\n",
              "    </tr>\n",
              "  </thead>\n",
              "  <tbody>\n",
              "    <tr>\n",
              "      <th>0</th>\n",
              "      <td>155</td>\n",
              "      <td>2018-07</td>\n",
              "      <td>921.6</td>\n",
              "      <td>100.0</td>\n",
              "      <td>122.0</td>\n",
              "      <td>248.0</td>\n",
              "      <td>control store 155</td>\n",
              "    </tr>\n",
              "    <tr>\n",
              "      <th>1</th>\n",
              "      <td>155</td>\n",
              "      <td>2018-08</td>\n",
              "      <td>762.3</td>\n",
              "      <td>89.0</td>\n",
              "      <td>116.0</td>\n",
              "      <td>225.0</td>\n",
              "      <td>control store 155</td>\n",
              "    </tr>\n",
              "    <tr>\n",
              "      <th>2</th>\n",
              "      <td>155</td>\n",
              "      <td>2018-09</td>\n",
              "      <td>965.8</td>\n",
              "      <td>98.0</td>\n",
              "      <td>135.0</td>\n",
              "      <td>272.0</td>\n",
              "      <td>control store 155</td>\n",
              "    </tr>\n",
              "    <tr>\n",
              "      <th>3</th>\n",
              "      <td>155</td>\n",
              "      <td>2018-10</td>\n",
              "      <td>940.4</td>\n",
              "      <td>106.0</td>\n",
              "      <td>133.0</td>\n",
              "      <td>266.0</td>\n",
              "      <td>control store 155</td>\n",
              "    </tr>\n",
              "    <tr>\n",
              "      <th>4</th>\n",
              "      <td>155</td>\n",
              "      <td>2018-11</td>\n",
              "      <td>856.2</td>\n",
              "      <td>100.0</td>\n",
              "      <td>126.0</td>\n",
              "      <td>256.0</td>\n",
              "      <td>control store 155</td>\n",
              "    </tr>\n",
              "  </tbody>\n",
              "</table>\n",
              "</div>"
            ],
            "text/plain": [
              "   Store_number     Date  sales_revenue  customer_count  transactions_count  \\\n",
              "0           155  2018-07          921.6           100.0               122.0   \n",
              "1           155  2018-08          762.3            89.0               116.0   \n",
              "2           155  2018-09          965.8            98.0               135.0   \n",
              "3           155  2018-10          940.4           106.0               133.0   \n",
              "4           155  2018-11          856.2           100.0               126.0   \n",
              "\n",
              "   sales_volume         store_type  \n",
              "0         248.0  control store 155  \n",
              "1         225.0  control store 155  \n",
              "2         272.0  control store 155  \n",
              "3         266.0  control store 155  \n",
              "4         256.0  control store 155  "
            ]
          },
          "execution_count": 91,
          "metadata": {},
          "output_type": "execute_result"
        }
      ],
      "source": [
        "# the store with the highest similarity\n",
        "control_store = store_score.sort_values(by=['avg_score'], ascending=False)['another_store'].values[0]\n",
        "#\n",
        "control_data = store_months[store_months['Store_number']==control_store].reset_index(drop=True)\n",
        "control_data['store_type'] = f'control store {control_store}'\n",
        "trial_data = store_months[store_months['Store_number']==trial_store].reset_index(drop=True)\n",
        "trial_data['store_type'] = f'trial store {trial_store}'\n",
        "#\n",
        "trial_control_data = pd.concat([control_data, trial_data], ignore_index=True)\n",
        "trial_control_data.head()"
      ]
    },
    {
      "cell_type": "code",
      "execution_count": null,
      "metadata": {
        "execution": {
          "iopub.execute_input": "2022-08-30T03:14:07.963833Z",
          "iopub.status.busy": "2022-08-30T03:14:07.963106Z",
          "iopub.status.idle": "2022-08-30T03:14:08.538751Z",
          "shell.execute_reply": "2022-08-30T03:14:08.537844Z"
        },
        "papermill": {
          "duration": 0.668802,
          "end_time": "2022-08-30T03:14:08.540895",
          "exception": false,
          "start_time": "2022-08-30T03:14:07.872093",
          "status": "completed"
        },
        "tags": [],
        "id": "feb6de9b",
        "outputId": "1486d6a7-6944-4eff-9a6c-6ed642db1931"
      },
      "outputs": [
        {
          "data": {
            "image/png": "[encoded data removed]",
            "text/plain": [
              "<Figure size 1728x432 with 2 Axes>"
            ]
          },
          "metadata": {
            "needs_background": "light"
          },
          "output_type": "display_data"
        }
      ],
      "source": [
        "#\n",
        "fig = plt.figure(figsize=(24,6))\n",
        "# Sales revenue\n",
        "fig.add_subplot(1, 2, 1)\n",
        "sns.lineplot(data=trial_control_data, x='Date', y=metric_1, hue='store_type', markers=True, style=\"store_type\", dashes=False)\n",
        "plt.axvline('2019-02', color='black', linestyle='dotted')\n",
        "plt.grid()\n",
        "plt.title(metric_1)\n",
        "# Number of customers\n",
        "fig.add_subplot(1, 2, 2)\n",
        "sns.lineplot(data=trial_control_data, x='Date', y=metric_2, hue='store_type', markers=True, style=\"store_type\", dashes=False)\n",
        "plt.axvline('2019-02', color='black', linestyle='dotted')\n",
        "plt.grid()\n",
        "plt.title(metric_2)\n",
        "plt.show()"
      ]
    },
    {
      "cell_type": "markdown",
      "metadata": {
        "papermill": {
          "duration": 0.088492,
          "end_time": "2022-08-30T03:14:08.722798",
          "exception": false,
          "start_time": "2022-08-30T03:14:08.634306",
          "status": "completed"
        },
        "tags": [],
        "id": "c5aca974"
      },
      "source": [
        "<font size=\"3\"> Let's calculate the difference in key metrics between two stores. The ratio of differnece to metric value of control store can display clearer patterns."
      ]
    },
    {
      "cell_type": "markdown",
      "metadata": {
        "papermill": {
          "duration": 0.090295,
          "end_time": "2022-08-30T03:14:09.112052",
          "exception": false,
          "start_time": "2022-08-30T03:14:09.021757",
          "status": "completed"
        },
        "tags": [],
        "id": "99665381"
      },
      "source": [
        "- <font size=\"3\"> **Sales revenue**\n",
        "    - <font size=\"3\"> **The new trial layouts had a significant, positive impact on sales revenue (increase by up to 24%) in March and had a weak impact in the remaining 3 months.**\n",
        "- <font size=\"3\"> **Number of customers**\n",
        "    - <font size=\"3\"> **As the maximum difference in number of customers during the period before trial reached 14%, the difference in March might not completely be caused by the new trial layouts. So, the new trial layouts seemed to have a positive impact on number of customers in March.**\n",
        "    - <font size=\"3\"> **During the remaining 3 months, the new trial layouts had a weak impact on the number of customers.**"
      ]
    },
    {
      "cell_type": "code",
      "execution_count": null,
      "metadata": {
        "execution": {
          "iopub.execute_input": "2022-08-30T03:14:09.295269Z",
          "iopub.status.busy": "2022-08-30T03:14:09.294840Z",
          "iopub.status.idle": "2022-08-30T03:14:09.962591Z",
          "shell.execute_reply": "2022-08-30T03:14:09.961618Z"
        },
        "papermill": {
          "duration": 0.763088,
          "end_time": "2022-08-30T03:14:09.965047",
          "exception": false,
          "start_time": "2022-08-30T03:14:09.201959",
          "status": "completed"
        },
        "tags": [],
        "id": "3e8788c3",
        "outputId": "1bab3ce8-32c1-4e5c-ab18-6312f3ed2e26"
      },
      "outputs": [
        {
          "data": {
            "image/png": "[encoded data removed]",
            "text/plain": [
              "<Figure size 1728x432 with 2 Axes>"
            ]
          },
          "metadata": {
            "needs_background": "light"
          },
          "output_type": "display_data"
        }
      ],
      "source": [
        "#\n",
        "fig, ax = plt.subplots(1, 2, figsize=(24,6))\n",
        "#\n",
        "ax[0].bar(trial_control_diff[trial_control_diff['Date']<=pd.to_datetime('2019-02-01')]['Date'],\n",
        "          trial_control_diff[trial_control_diff['Date']<=pd.to_datetime('2019-02-01')][f'{metric_1}_diff_percent'],\n",
        "          width=20, label='before trial')\n",
        "ax[0].bar(trial_control_diff[trial_control_diff['Date']>pd.to_datetime('2019-02-01')]['Date'],\n",
        "          trial_control_diff[trial_control_diff['Date']>pd.to_datetime('2019-02-01')][f'{metric_1}_diff_percent'],\n",
        "          width=20, label='trial')\n",
        "add_value_to_barchart(ax=ax[0], gap_between_value_bar=0.005)\n",
        "ax[0].xaxis.set_major_locator(mdates.MonthLocator())\n",
        "ax[0].set_title(f'{metric_1} trend')\n",
        "ax[0].legend()\n",
        "ax[0].set_ylabel('Proportion')\n",
        "#\n",
        "ax[1].bar(trial_control_diff[trial_control_diff['Date']<=pd.to_datetime('2019-02-01')]['Date'],\n",
        "          trial_control_diff[trial_control_diff['Date']<=pd.to_datetime('2019-02-01')][f'{metric_2}_diff_percent'],\n",
        "          width=20, label='before trial')\n",
        "ax[1].bar(trial_control_diff[trial_control_diff['Date']>pd.to_datetime('2019-02-01')]['Date'],\n",
        "          trial_control_diff[trial_control_diff['Date']>pd.to_datetime('2019-02-01')][f'{metric_2}_diff_percent'],\n",
        "          width=20, label='trial')\n",
        "add_value_to_barchart(ax=ax[1], gap_between_value_bar=0.005)\n",
        "ax[1].xaxis.set_major_locator(mdates.MonthLocator())\n",
        "ax[1].set_title(f'{metric_2} trend')\n",
        "ax[1].legend()\n",
        "ax[1].set_ylabel('Proportion')\n",
        "plt.show()"
      ]
    },
    {
      "cell_type": "markdown",
      "metadata": {
        "papermill": {
          "duration": 0.090477,
          "end_time": "2022-08-30T03:14:10.146390",
          "exception": false,
          "start_time": "2022-08-30T03:14:10.055913",
          "status": "completed"
        },
        "tags": [],
        "id": "486dc547"
      },
      "source": [
        "<font size=\"3\"> Let's find out which store is the control store of the trial store 88."
      ]
    },
    {
      "cell_type": "code",
      "execution_count": null,
      "metadata": {
        "execution": {
          "iopub.execute_input": "2022-08-30T03:14:10.329661Z",
          "iopub.status.busy": "2022-08-30T03:14:10.328976Z",
          "iopub.status.idle": "2022-08-30T03:14:12.485504Z",
          "shell.execute_reply": "2022-08-30T03:14:12.484270Z"
        },
        "papermill": {
          "duration": 2.25166,
          "end_time": "2022-08-30T03:14:12.488374",
          "exception": false,
          "start_time": "2022-08-30T03:14:10.236714",
          "status": "completed"
        },
        "tags": [],
        "id": "cd5938f3"
      },
      "outputs": [],
      "source": [
        "#\n",
        "trial_store = 88\n",
        "# key metrics\n",
        "metric_1 = 'sales_revenue'\n",
        "metric_2 = 'customer_count'\n",
        "# correlation coefficient\n",
        "metric_1_corr = cal_correlation_coeff(dataset=store_months, target_attribute=metric_1, trial_store=trial_store)\n",
        "metric_2_corr = cal_correlation_coeff(dataset=store_months, target_attribute=metric_2, trial_store=trial_store)\n",
        "# difference\n",
        "metric_1_diff = cal_difference(dataset=store_months, target_attribute=metric_1, trial_store=trial_store)\n",
        "metric_2_diff = cal_difference(dataset=store_months, target_attribute=metric_2, trial_store=trial_store)"
      ]
    },
    {
      "cell_type": "markdown",
      "metadata": {
        "papermill": {
          "duration": 0.207057,
          "end_time": "2022-08-30T03:14:12.788162",
          "exception": false,
          "start_time": "2022-08-30T03:14:12.581105",
          "status": "completed"
        },
        "tags": [],
        "id": "34b87da9"
      },
      "source": [
        "<font size=\"3\"> It's clear that the store 237 is the control store (most similar store) of the trial store 88."
      ]
    },
    {
      "cell_type": "code",
      "execution_count": null,
      "metadata": {
        "execution": {
          "iopub.execute_input": "2022-08-30T03:14:13.029836Z",
          "iopub.status.busy": "2022-08-30T03:14:13.029083Z",
          "iopub.status.idle": "2022-08-30T03:14:13.054558Z",
          "shell.execute_reply": "2022-08-30T03:14:13.053734Z"
        },
        "papermill": {
          "duration": 0.176268,
          "end_time": "2022-08-30T03:14:13.056770",
          "exception": false,
          "start_time": "2022-08-30T03:14:12.880502",
          "status": "completed"
        },
        "tags": [],
        "id": "caf351c8",
        "outputId": "ee83a85f-80e2-49c8-8906-5c14914c1f9e"
      },
      "outputs": [
        {
          "data": {
            "text/html": [
              "<div>\n",
              "<style scoped>\n",
              "    .dataframe tbody tr th:only-of-type {\n",
              "        vertical-align: middle;\n",
              "    }\n",
              "\n",
              "    .dataframe tbody tr th {\n",
              "        vertical-align: top;\n",
              "    }\n",
              "\n",
              "    .dataframe thead th {\n",
              "        text-align: right;\n",
              "    }\n",
              "</style>\n",
              "<table border=\"1\" class=\"dataframe\">\n",
              "  <thead>\n",
              "    <tr style=\"text-align: right;\">\n",
              "      <th></th>\n",
              "      <th>trial_store</th>\n",
              "      <th>another_store</th>\n",
              "      <th>sales_revenue_corr</th>\n",
              "      <th>customer_count_corr</th>\n",
              "      <th>sales_revenue_avg_diff_magnitude</th>\n",
              "      <th>customer_count_avg_diff_magnitude</th>\n",
              "      <th>avg_score</th>\n",
              "    </tr>\n",
              "  </thead>\n",
              "  <tbody>\n",
              "    <tr>\n",
              "      <th>20</th>\n",
              "      <td>88</td>\n",
              "      <td>237</td>\n",
              "      <td>0.176471</td>\n",
              "      <td>0.927483</td>\n",
              "      <td>0.955669</td>\n",
              "      <td>0.984446</td>\n",
              "      <td>0.761017</td>\n",
              "    </tr>\n",
              "    <tr>\n",
              "      <th>161</th>\n",
              "      <td>88</td>\n",
              "      <td>178</td>\n",
              "      <td>0.526331</td>\n",
              "      <td>0.900220</td>\n",
              "      <td>0.723785</td>\n",
              "      <td>0.835695</td>\n",
              "      <td>0.746508</td>\n",
              "    </tr>\n",
              "    <tr>\n",
              "      <th>54</th>\n",
              "      <td>88</td>\n",
              "      <td>123</td>\n",
              "      <td>0.393619</td>\n",
              "      <td>0.663886</td>\n",
              "      <td>0.856554</td>\n",
              "      <td>0.894801</td>\n",
              "      <td>0.702215</td>\n",
              "    </tr>\n",
              "    <tr>\n",
              "      <th>183</th>\n",
              "      <td>88</td>\n",
              "      <td>7</td>\n",
              "      <td>0.632237</td>\n",
              "      <td>0.279788</td>\n",
              "      <td>0.785334</td>\n",
              "      <td>0.835157</td>\n",
              "      <td>0.633129</td>\n",
              "    </tr>\n",
              "    <tr>\n",
              "      <th>181</th>\n",
              "      <td>88</td>\n",
              "      <td>69</td>\n",
              "      <td>0.185123</td>\n",
              "      <td>0.647882</td>\n",
              "      <td>0.719565</td>\n",
              "      <td>0.869765</td>\n",
              "      <td>0.605584</td>\n",
              "    </tr>\n",
              "  </tbody>\n",
              "</table>\n",
              "</div>"
            ],
            "text/plain": [
              "     trial_store  another_store  sales_revenue_corr  customer_count_corr  \\\n",
              "20            88            237            0.176471             0.927483   \n",
              "161           88            178            0.526331             0.900220   \n",
              "54            88            123            0.393619             0.663886   \n",
              "183           88              7            0.632237             0.279788   \n",
              "181           88             69            0.185123             0.647882   \n",
              "\n",
              "     sales_revenue_avg_diff_magnitude  customer_count_avg_diff_magnitude  \\\n",
              "20                           0.955669                           0.984446   \n",
              "161                          0.723785                           0.835695   \n",
              "54                           0.856554                           0.894801   \n",
              "183                          0.785334                           0.835157   \n",
              "181                          0.719565                           0.869765   \n",
              "\n",
              "     avg_score  \n",
              "20    0.761017  \n",
              "161   0.746508  \n",
              "54    0.702215  \n",
              "183   0.633129  \n",
              "181   0.605584  "
            ]
          },
          "execution_count": 96,
          "metadata": {},
          "output_type": "execute_result"
        }
      ],
      "source": [
        "#\n",
        "store_score = metric_1_corr.merge(metric_2_corr, on=['trial_store','another_store'])\n",
        "store_score = store_score.merge(metric_1_diff, on=['trial_store','another_store'])\n",
        "store_score = store_score.merge(metric_2_diff, on=['trial_store','another_store'])\n",
        "store_score['avg_score'] = store_score[store_score.columns[2:]].mean(axis=1)\n",
        "store_score.sort_values(by=['avg_score'], ascending=False).head()    # top 5 store with the highest similarity."
      ]
    },
    {
      "cell_type": "markdown",
      "metadata": {
        "papermill": {
          "duration": 0.090472,
          "end_time": "2022-08-30T03:14:13.242592",
          "exception": false,
          "start_time": "2022-08-30T03:14:13.152120",
          "status": "completed"
        },
        "tags": [],
        "id": "5835e807"
      },
      "source": [
        "<font size=\"3\"> Compare the key metrics between trial store and control store."
      ]
    },
    {
      "cell_type": "code",
      "execution_count": null,
      "metadata": {
        "execution": {
          "iopub.execute_input": "2022-08-30T03:14:13.630183Z",
          "iopub.status.busy": "2022-08-30T03:14:13.629754Z",
          "iopub.status.idle": "2022-08-30T03:14:14.220613Z",
          "shell.execute_reply": "2022-08-30T03:14:14.219449Z"
        },
        "papermill": {
          "duration": 0.685383,
          "end_time": "2022-08-30T03:14:14.222867",
          "exception": false,
          "start_time": "2022-08-30T03:14:13.537484",
          "status": "completed"
        },
        "tags": [],
        "id": "198ecd79",
        "outputId": "afe01ff3-6644-45ce-9789-3a0f73c57d38"
      },
      "outputs": [
        {
          "data": {
            "image/png": "[encoded data removed]",
            "text/plain": [
              "<Figure size 1728x432 with 2 Axes>"
            ]
          },
          "metadata": {
            "needs_background": "light"
          },
          "output_type": "display_data"
        }
      ],
      "source": [
        "#\n",
        "fig = plt.figure(figsize=(24,6))\n",
        "# Sales revenue\n",
        "fig.add_subplot(1, 2, 1)\n",
        "sns.lineplot(data=trial_control_data, x='Date', y=metric_1, hue='store_type', markers=True, style=\"store_type\", dashes=False)\n",
        "plt.axvline('2019-02', color='black', linestyle='dotted')\n",
        "plt.grid()\n",
        "plt.title(metric_1)\n",
        "# Number of customers\n",
        "fig.add_subplot(1, 2, 2)\n",
        "sns.lineplot(data=trial_control_data, x='Date', y=metric_2, hue='store_type', markers=True, style=\"store_type\", dashes=False)\n",
        "plt.axvline('2019-02', color='black', linestyle='dotted')\n",
        "plt.grid()\n",
        "plt.title(metric_2)\n",
        "plt.show()"
      ]
    },
    {
      "cell_type": "markdown",
      "metadata": {
        "papermill": {
          "duration": 0.091642,
          "end_time": "2022-08-30T03:14:14.411736",
          "exception": false,
          "start_time": "2022-08-30T03:14:14.320094",
          "status": "completed"
        },
        "tags": [],
        "id": "7a7f29f1"
      },
      "source": [
        "<font size=\"3\"> Let's calculate the difference in key metrics between two stores. The ratio of differnece to metric value of control store can display clearer patterns."
      ]
    },
    {
      "cell_type": "code",
      "execution_count": null,
      "metadata": {
        "execution": {
          "iopub.execute_input": "2022-08-30T03:14:14.601437Z",
          "iopub.status.busy": "2022-08-30T03:14:14.600653Z",
          "iopub.status.idle": "2022-08-30T03:14:14.622706Z",
          "shell.execute_reply": "2022-08-30T03:14:14.621605Z"
        },
        "papermill": {
          "duration": 0.117941,
          "end_time": "2022-08-30T03:14:14.624891",
          "exception": false,
          "start_time": "2022-08-30T03:14:14.506950",
          "status": "completed"
        },
        "tags": [],
        "id": "a239096f",
        "outputId": "b425f04a-bad7-410e-c532-bf44eaf2481b"
      },
      "outputs": [
        {
          "data": {
            "text/html": [
              "<div>\n",
              "<style scoped>\n",
              "    .dataframe tbody tr th:only-of-type {\n",
              "        vertical-align: middle;\n",
              "    }\n",
              "\n",
              "    .dataframe tbody tr th {\n",
              "        vertical-align: top;\n",
              "    }\n",
              "\n",
              "    .dataframe thead th {\n",
              "        text-align: right;\n",
              "    }\n",
              "</style>\n",
              "<table border=\"1\" class=\"dataframe\">\n",
              "  <thead>\n",
              "    <tr style=\"text-align: right;\">\n",
              "      <th></th>\n",
              "      <th>Date</th>\n",
              "      <th>sales_revenue_diff</th>\n",
              "      <th>customer_count_diff</th>\n",
              "      <th>sales_revenue_diff_percent</th>\n",
              "      <th>customer_count_diff_percent</th>\n",
              "    </tr>\n",
              "  </thead>\n",
              "  <tbody>\n",
              "    <tr>\n",
              "      <th>0</th>\n",
              "      <td>2018-07-01</td>\n",
              "      <td>-169.00</td>\n",
              "      <td>-1.0</td>\n",
              "      <td>-0.121828</td>\n",
              "      <td>-0.008000</td>\n",
              "    </tr>\n",
              "    <tr>\n",
              "      <th>1</th>\n",
              "      <td>2018-08-01</td>\n",
              "      <td>-79.70</td>\n",
              "      <td>-7.0</td>\n",
              "      <td>-0.060292</td>\n",
              "      <td>-0.053030</td>\n",
              "    </tr>\n",
              "    <tr>\n",
              "      <th>2</th>\n",
              "      <td>2018-09-01</td>\n",
              "      <td>111.00</td>\n",
              "      <td>1.0</td>\n",
              "      <td>0.088743</td>\n",
              "      <td>0.008333</td>\n",
              "    </tr>\n",
              "    <tr>\n",
              "      <th>3</th>\n",
              "      <td>2018-10-01</td>\n",
              "      <td>-16.30</td>\n",
              "      <td>2.0</td>\n",
              "      <td>-0.012664</td>\n",
              "      <td>0.016949</td>\n",
              "    </tr>\n",
              "    <tr>\n",
              "      <th>4</th>\n",
              "      <td>2018-11-01</td>\n",
              "      <td>-4.60</td>\n",
              "      <td>-2.0</td>\n",
              "      <td>-0.003495</td>\n",
              "      <td>-0.016000</td>\n",
              "    </tr>\n",
              "    <tr>\n",
              "      <th>5</th>\n",
              "      <td>2018-12-01</td>\n",
              "      <td>-21.40</td>\n",
              "      <td>-1.0</td>\n",
              "      <td>-0.017336</td>\n",
              "      <td>-0.008264</td>\n",
              "    </tr>\n",
              "    <tr>\n",
              "      <th>6</th>\n",
              "      <td>2019-01-01</td>\n",
              "      <td>97.70</td>\n",
              "      <td>4.0</td>\n",
              "      <td>0.087412</td>\n",
              "      <td>0.036036</td>\n",
              "    </tr>\n",
              "    <tr>\n",
              "      <th>7</th>\n",
              "      <td>2019-02-01</td>\n",
              "      <td>26.60</td>\n",
              "      <td>3.0</td>\n",
              "      <td>0.020259</td>\n",
              "      <td>0.025210</td>\n",
              "    </tr>\n",
              "    <tr>\n",
              "      <th>8</th>\n",
              "      <td>2019-03-01</td>\n",
              "      <td>289.40</td>\n",
              "      <td>17.0</td>\n",
              "      <td>0.245754</td>\n",
              "      <td>0.146552</td>\n",
              "    </tr>\n",
              "    <tr>\n",
              "      <th>9</th>\n",
              "      <td>2019-04-01</td>\n",
              "      <td>163.40</td>\n",
              "      <td>3.0</td>\n",
              "      <td>0.141644</td>\n",
              "      <td>0.025862</td>\n",
              "    </tr>\n",
              "    <tr>\n",
              "      <th>10</th>\n",
              "      <td>2019-05-01</td>\n",
              "      <td>108.95</td>\n",
              "      <td>1.0</td>\n",
              "      <td>0.096595</td>\n",
              "      <td>0.008197</td>\n",
              "    </tr>\n",
              "    <tr>\n",
              "      <th>11</th>\n",
              "      <td>2019-06-01</td>\n",
              "      <td>109.20</td>\n",
              "      <td>-5.0</td>\n",
              "      <td>0.095505</td>\n",
              "      <td>-0.042373</td>\n",
              "    </tr>\n",
              "  </tbody>\n",
              "</table>\n",
              "</div>"
            ],
            "text/plain": [
              "         Date  sales_revenue_diff  customer_count_diff  \\\n",
              "0  2018-07-01             -169.00                 -1.0   \n",
              "1  2018-08-01              -79.70                 -7.0   \n",
              "2  2018-09-01              111.00                  1.0   \n",
              "3  2018-10-01              -16.30                  2.0   \n",
              "4  2018-11-01               -4.60                 -2.0   \n",
              "5  2018-12-01              -21.40                 -1.0   \n",
              "6  2019-01-01               97.70                  4.0   \n",
              "7  2019-02-01               26.60                  3.0   \n",
              "8  2019-03-01              289.40                 17.0   \n",
              "9  2019-04-01              163.40                  3.0   \n",
              "10 2019-05-01              108.95                  1.0   \n",
              "11 2019-06-01              109.20                 -5.0   \n",
              "\n",
              "    sales_revenue_diff_percent  customer_count_diff_percent  \n",
              "0                    -0.121828                    -0.008000  \n",
              "1                    -0.060292                    -0.053030  \n",
              "2                     0.088743                     0.008333  \n",
              "3                    -0.012664                     0.016949  \n",
              "4                    -0.003495                    -0.016000  \n",
              "5                    -0.017336                    -0.008264  \n",
              "6                     0.087412                     0.036036  \n",
              "7                     0.020259                     0.025210  \n",
              "8                     0.245754                     0.146552  \n",
              "9                     0.141644                     0.025862  \n",
              "10                    0.096595                     0.008197  \n",
              "11                    0.095505                    -0.042373  "
            ]
          },
          "execution_count": 99,
          "metadata": {},
          "output_type": "execute_result"
        }
      ],
      "source": [
        "trial_control_diff = control_data[['Date']].copy()\n",
        "trial_control_diff['Date'] = pd.to_datetime(trial_control_diff['Date'])\n",
        "trial_control_diff[f'{metric_1}_diff'] = trial_data[metric_1] - control_data[metric_1]\n",
        "trial_control_diff[f'{metric_2}_diff'] = trial_data[metric_2] - control_data[metric_2]\n",
        "trial_control_diff[f'{metric_1}_diff_percent'] = trial_control_diff[f'{metric_1}_diff']/control_data[metric_1]\n",
        "trial_control_diff[f'{metric_2}_diff_percent'] = trial_control_diff[f'{metric_2}_diff']/control_data[metric_2]\n",
        "trial_control_diff"
      ]
    },
    {
      "cell_type": "markdown",
      "metadata": {
        "papermill": {
          "duration": 0.093306,
          "end_time": "2022-08-30T03:14:14.810495",
          "exception": false,
          "start_time": "2022-08-30T03:14:14.717189",
          "status": "completed"
        },
        "tags": [],
        "id": "73144c04"
      },
      "source": [
        "- <font size=\"3\"> **Sales revenue**\n",
        "    - <font size=\"3\"> **The new trial layouts had a significant, positive impact on sales revenue (increase by up to 25%) in March.**\n",
        "    - <font size=\"3\"> **The new trial layouts seemed to have a positive impact in the remaining 3 months.**\n",
        "- <font size=\"3\"> **Number of customers**\n",
        "    - <font size=\"3\"> **The new trial layouts had a significant, positive impact on the number of customers (increase by up to 15%) in March.**\n",
        "    - <font size=\"3\"> **The new trial layouts seemed to have a positive impact in April**\n",
        "    - <font size=\"3\"> **The new trial layouts seemed to have a weak impact in May**\n",
        "    - <font size=\"3\"> **The new trial layouts seemed to have a nagetive impact in June**"
      ]
    },
    {
      "cell_type": "code",
      "source": [],
      "metadata": {
        "id": "IWwnkpFmYe4Y"
      },
      "execution_count": null,
      "outputs": []
    },
    {
      "cell_type": "code",
      "execution_count": null,
      "metadata": {
        "execution": {
          "iopub.execute_input": "2022-08-30T03:14:15.001304Z",
          "iopub.status.busy": "2022-08-30T03:14:15.000588Z",
          "iopub.status.idle": "2022-08-30T03:14:15.675997Z",
          "shell.execute_reply": "2022-08-30T03:14:15.675168Z"
        },
        "papermill": {
          "duration": 0.773423,
          "end_time": "2022-08-30T03:14:15.678205",
          "exception": false,
          "start_time": "2022-08-30T03:14:14.904782",
          "status": "completed"
        },
        "tags": [],
        "id": "39cc91a1",
        "outputId": "048b1292-4e17-42fa-9835-b986d17aaccd"
      },
      "outputs": [
        {
          "data": {
            "image/png": "[encoded data removed]",
            "text/plain": [
              "<Figure size 1728x432 with 2 Axes>"
            ]
          },
          "metadata": {
            "needs_background": "light"
          },
          "output_type": "display_data"
        }
      ],
      "source": [
        "#\n",
        "fig, ax = plt.subplots(1, 2, figsize=(24,6))\n",
        "#\n",
        "ax[0].bar(trial_control_diff[trial_control_diff['Date']<=pd.to_datetime('2019-02-01')]['Date'],\n",
        "          trial_control_diff[trial_control_diff['Date']<=pd.to_datetime('2019-02-01')][f'{metric_1}_diff_percent'],\n",
        "          width=20, label='before trial')\n",
        "ax[0].bar(trial_control_diff[trial_control_diff['Date']>pd.to_datetime('2019-02-01')]['Date'],\n",
        "          trial_control_diff[trial_control_diff['Date']>pd.to_datetime('2019-02-01')][f'{metric_1}_diff_percent'],\n",
        "          width=20, label='trial')\n",
        "add_value_to_barchart(ax=ax[0], gap_between_value_bar=0.005)\n",
        "ax[0].xaxis.set_major_locator(mdates.MonthLocator())\n",
        "ax[0].set_title(f'{metric_1} trend')\n",
        "ax[0].legend()\n",
        "ax[0].set_ylabel('Proportion')\n",
        "#\n",
        "ax[1].bar(trial_control_diff[trial_control_diff['Date']<=pd.to_datetime('2019-02-01')]['Date'],\n",
        "          trial_control_diff[trial_control_diff['Date']<=pd.to_datetime('2019-02-01')][f'{metric_2}_diff_percent'],\n",
        "          width=20, label='before trial')\n",
        "ax[1].bar(trial_control_diff[trial_control_diff['Date']>pd.to_datetime('2019-02-01')]['Date'],\n",
        "          trial_control_diff[trial_control_diff['Date']>pd.to_datetime('2019-02-01')][f'{metric_2}_diff_percent'],\n",
        "          width=20, label='trial')\n",
        "add_value_to_barchart(ax=ax[1], gap_between_value_bar=0.005)\n",
        "ax[1].xaxis.set_major_locator(mdates.MonthLocator())\n",
        "ax[1].set_title(f'{metric_2} trend')\n",
        "ax[1].legend()\n",
        "ax[1].set_ylabel('Proportion')\n",
        "plt.show()"
      ]
    },
    {
      "cell_type": "markdown",
      "source": [],
      "metadata": {
        "id": "y97plAuPYhog"
      }
    },
    {
      "cell_type": "markdown",
      "metadata": {
        "papermill": {
          "duration": 0.09206,
          "end_time": "2022-08-30T03:14:15.863755",
          "exception": false,
          "start_time": "2022-08-30T03:14:15.771695",
          "status": "completed"
        },
        "tags": [],
        "id": "35253a3e"
      },
      "source": [
        "<font size=\"3\"> **Overall**\n",
        "- <font size=\"3\"> **The new trial layouts had a positive impact on sales revenue and number of customers in March and April.**\n",
        "- <font size=\"3\"> **In May and June, the new trial layouts seemed to have a weak impact.**"
      ]
    },
    {
      "cell_type": "markdown",
      "source": [
        "Conclusion:\n",
        "\n",
        "We’ve found control stores 233, 155, 237 for trial stores 77, 86 and 88 respectively.\n",
        "The results for trial stores 77 and 88 during the trial period show a significant difference in at least two of the\n",
        "three trial months but this is not the case for trial store 86. We can check with the client if the implementation\n",
        "of the trial was different in trial store 86 but overall, the trial shows a significant increase in sales. Now that\n",
        "we have finished our analysis, we can prepare our presentation to the Category Manager."
      ],
      "metadata": {
        "id": "hWqIxGKIcmvs"
      }
    }
  ]
}